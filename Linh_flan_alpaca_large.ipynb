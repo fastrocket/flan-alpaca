{
  "nbformat": 4,
  "nbformat_minor": 0,
  "metadata": {
    "colab": {
      "private_outputs": true,
      "provenance": [],
      "authorship_tag": "ABX9TyOpdvmn4SLurJlnFgEDZFp8",
      "include_colab_link": true
    },
    "kernelspec": {
      "name": "python3",
      "display_name": "Python 3"
    },
    "language_info": {
      "name": "python"
    },
    "accelerator": "GPU",
    "gpuClass": "standard"
  },
  "cells": [
    {
      "cell_type": "markdown",
      "metadata": {
        "id": "view-in-github",
        "colab_type": "text"
      },
      "source": [
        "<a href=\"https://colab.research.google.com/github/fastrocket/flan-alpaca/blob/main/Linh_flan_alpaca_large.ipynb\" target=\"_parent\"><img src=\"https://colab.research.google.com/assets/colab-badge.svg\" alt=\"Open In Colab\"/></a>"
      ]
    },
    {
      "cell_type": "code",
      "execution_count": null,
      "metadata": {
        "id": "WnOJim29zWeF"
      },
      "outputs": [],
      "source": [
        "!nvidia-smi "
      ]
    },
    {
      "cell_type": "code",
      "source": [
        "!pip install transformers\n",
        "!pip install SentencePiece"
      ],
      "metadata": {
        "id": "KI69JkjPzeFd"
      },
      "execution_count": null,
      "outputs": []
    },
    {
      "cell_type": "code",
      "source": [
        "#!pip install SentencePiece"
      ],
      "metadata": {
        "id": "ObSrjJL56Gpj"
      },
      "execution_count": null,
      "outputs": []
    },
    {
      "cell_type": "code",
      "source": [
        "from transformers import pipeline\n",
        "\n",
        "# model_name = \"declare-lab/flan-alpaca-large\"\n",
        "model_name = \"declare-lab/flan-alpaca-xl\"\n",
        "\n",
        "model=pipeline(model=model_name)"
      ],
      "metadata": {
        "id": "gBnrpqufzgif"
      },
      "execution_count": null,
      "outputs": []
    },
    {
      "cell_type": "code",
      "source": [
        "prompt = \"\"\"Write a long story in the style of Stephen King using active voice about an astronaut who crash lands into an alien planet full of Amazons\"\"\"\n",
        "\n",
        "yhat = model(prompt, max_length=4096, do_sample=True)\n",
        "\n",
        "yhat[0]['generated_text']"
      ],
      "metadata": {
        "id": "vi75mCBR0pBi"
      },
      "execution_count": null,
      "outputs": []
    },
    {
      "cell_type": "code",
      "source": [
        "from transformers import pipeline\n",
        "\n",
        "model_name = \"declare-lab/flan-alpaca-large\"\n",
        "\n",
        "model = pipeline(\"text-generation\", model=model_name)\n",
        "\n",
        "prompt = \"\"\"Write a long story in the style of Stephen King using active voice about an astronaut who crash lands into an alien planet full of Amazons\"\"\"\n",
        "\n",
        "# Increase the max_length parameter to generate longer text\n",
        "yhat = model(prompt, max_length=4096, do_sample=True, top_p=0.9, temperature=0.8)\n",
        "\n",
        "print(yhat[0]['generated_text'])\n"
      ],
      "metadata": {
        "id": "Qj-vXjJf48kQ"
      },
      "execution_count": null,
      "outputs": []
    },
    {
      "cell_type": "code",
      "source": [
        "from transformers import T5ForConditionalGeneration, T5Tokenizer\n",
        "\n",
        "model_name = \"declare-lab/flan-alpaca-large\"\n",
        "\n",
        "tokenizer = T5Tokenizer.from_pretrained(model_name)\n",
        "model = T5ForConditionalGeneration.from_pretrained(model_name)\n",
        "\n",
        "prompt = \"\"\"Write a long story in the style of Stephen King using active voice about an astronaut who crash lands into an alien planet full of Amazons\"\"\"\n",
        "\n",
        "input_ids = tokenizer.encode(prompt, return_tensors=\"pt\")\n",
        "output = model.generate(input_ids, max_length=4096, num_return_sequences=1, do_sample=True, top_p=0.9, temperature=0.8)\n",
        "\n",
        "generated_text = tokenizer.decode(output[0], skip_special_tokens=True)\n",
        "print(generated_text)\n"
      ],
      "metadata": {
        "id": "-4nf_h_u53D2"
      },
      "execution_count": null,
      "outputs": []
    },
    {
      "cell_type": "code",
      "source": [
        "import torch\n",
        "from transformers import pipeline\n",
        "\n",
        "model_name = \"declare-lab/flan-alpaca-large\"\n",
        "\n",
        "# Check if a GPU is available and set the device accordingly\n",
        "device = 0 if torch.cuda.is_available() else -1\n",
        "\n",
        "model = pipeline(\"text-generation\", model=model_name, device=device)\n",
        "prompt = \"\"\"Write a long story in the style of Stephen King using active voice about an astronaut who crash lands into an alien planet full of Amazons\"\"\"\n",
        "\n",
        "yhat = model(prompt, max_length=4096, do_sample=True)\n",
        "\n",
        "print(yhat[0]['generated_text'])\n"
      ],
      "metadata": {
        "id": "ZKJzF7je8AJu"
      },
      "execution_count": null,
      "outputs": []
    }
  ]
}